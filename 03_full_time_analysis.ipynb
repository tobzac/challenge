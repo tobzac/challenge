{
 "cells": [
  {
   "cell_type": "markdown",
   "id": "5e8a1489",
   "metadata": {},
   "source": [
    "## citibike data over full time frame"
   ]
  },
  {
   "cell_type": "code",
   "execution_count": null,
   "id": "0e06d052",
   "metadata": {},
   "outputs": [],
   "source": [
    "# loop over all years\n",
    "# different format of inoput csvs has to be taken into account...\n"
   ]
  }
 ],
 "metadata": {
  "kernelspec": {
   "display_name": "Python 3 (ipykernel)",
   "language": "python",
   "name": "python3"
  },
  "language_info": {
   "codemirror_mode": {
    "name": "ipython",
    "version": 3
   },
   "file_extension": ".py",
   "mimetype": "text/x-python",
   "name": "python",
   "nbconvert_exporter": "python",
   "pygments_lexer": "ipython3",
   "version": "3.9.7"
  }
 },
 "nbformat": 4,
 "nbformat_minor": 5
}
