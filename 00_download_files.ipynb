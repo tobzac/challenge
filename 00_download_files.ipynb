{
 "cells": [
  {
   "cell_type": "markdown",
   "id": "b6a1324e",
   "metadata": {},
   "source": [
    "### download files"
   ]
  },
  {
   "cell_type": "code",
   "execution_count": 1,
   "id": "cc301613",
   "metadata": {},
   "outputs": [],
   "source": [
    "#import collection of functions for analysis\n",
    "import analysis_functions"
   ]
  },
  {
   "cell_type": "code",
   "execution_count": 2,
   "id": "a9728d23",
   "metadata": {},
   "outputs": [],
   "source": [
    "# download now full batch of csv files for analysis \n",
    "# up to now single downloaded files/folders were investigated."
   ]
  },
  {
   "cell_type": "code",
   "execution_count": 3,
   "id": "8f0a6f6c",
   "metadata": {},
   "outputs": [
    {
     "name": "stdout",
     "output_type": "stream",
     "text": [
      "2014-citibike-tripdata.zip\n",
      "2013-citibike-tripdata.zip\n"
     ]
    }
   ],
   "source": [
    "#zip_folder_list = [\"2023-citibike-tripdata.zip\", \"2022-citibike-tripdata.zip\", \\\n",
    "#                   \"2021-citibike-tripdata.zip\", \"2020-citibike-tripdata.zip\", \\\n",
    "#                   \"2019-citibike-tripdata.zip\", \"2018-citibike-tripdata.zip\", \\\n",
    "#                   \"2017-citibike-tripdata.zip\", \"2016-citibike-tripdata.zip\", \\\n",
    "#                   \"2015-citibike-tripdata.zip\", \"2014-citibike-tripdata.zip\", \\\n",
    "#                   \"2013-citibike-tripdata.zip\"]\n",
    "zip_folder_list = [\"2014-citibike-tripdata.zip\", \\\n",
    "                   \"2013-citibike-tripdata.zip\"]\n",
    "for zip_folder_name in zip_folder_list:\n",
    "    print(zip_folder_name)\n",
    "    analysis_functions.download_url('https://s3.amazonaws.com/tripdata/' + zip_folder_name, 'Data/downloads/' + zip_folder_name.split(\".\")[0])\n",
    "    "
   ]
  },
  {
   "cell_type": "code",
   "execution_count": 4,
   "id": "735881bf",
   "metadata": {},
   "outputs": [],
   "source": [
    "# data needs still to be processed and unzipped further... later stored in Data folder...\n",
    "# final structure is:\n",
    "# for 2020-2024:\n",
    "# Data\\YEAR-citibike-tripdata\\YEARMONTH-citibike-tripdata\\YEARMONTH-citibike-tripdata_n.csv\n",
    "# for 2013-2019:\n",
    "# Data\\YEAR-citibike-tripdata\\1_January\\YEARMONTH-citibike-tripdata_n.csv\n",
    "# Data\\YEAR-citibike-tripdata\\2_Februar\\YEARMONTH-citibike-tripdata_n.csv ..."
   ]
  }
 ],
 "metadata": {
  "kernelspec": {
   "display_name": "Python 3 (ipykernel)",
   "language": "python",
   "name": "python3"
  },
  "language_info": {
   "codemirror_mode": {
    "name": "ipython",
    "version": 3
   },
   "file_extension": ".py",
   "mimetype": "text/x-python",
   "name": "python",
   "nbconvert_exporter": "python",
   "pygments_lexer": "ipython3",
   "version": "3.12.7"
  }
 },
 "nbformat": 4,
 "nbformat_minor": 5
}
